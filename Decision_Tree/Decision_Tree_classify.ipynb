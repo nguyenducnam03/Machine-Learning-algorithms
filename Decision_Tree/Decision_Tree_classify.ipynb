{
 "cells": [
  {
   "cell_type": "code",
   "execution_count": 1,
   "id": "fb89bc5d",
   "metadata": {},
   "outputs": [],
   "source": [
    "import numpy as np\n",
    "import pandas as pd"
   ]
  },
  {
   "cell_type": "code",
   "execution_count": 12,
   "id": "8b17ba20",
   "metadata": {},
   "outputs": [
    {
     "data": {
      "text/html": [
       "<div>\n",
       "<style scoped>\n",
       "    .dataframe tbody tr th:only-of-type {\n",
       "        vertical-align: middle;\n",
       "    }\n",
       "\n",
       "    .dataframe tbody tr th {\n",
       "        vertical-align: top;\n",
       "    }\n",
       "\n",
       "    .dataframe thead th {\n",
       "        text-align: right;\n",
       "    }\n",
       "</style>\n",
       "<table border=\"1\" class=\"dataframe\">\n",
       "  <thead>\n",
       "    <tr style=\"text-align: right;\">\n",
       "      <th></th>\n",
       "      <th>sepal_length</th>\n",
       "      <th>sepal_width</th>\n",
       "      <th>petal_length</th>\n",
       "      <th>petal_width</th>\n",
       "      <th>type</th>\n",
       "    </tr>\n",
       "  </thead>\n",
       "  <tbody>\n",
       "    <tr>\n",
       "      <th>0</th>\n",
       "      <td>4.9</td>\n",
       "      <td>3.0</td>\n",
       "      <td>1.4</td>\n",
       "      <td>0.2</td>\n",
       "      <td>Iris-setosa</td>\n",
       "    </tr>\n",
       "    <tr>\n",
       "      <th>1</th>\n",
       "      <td>4.7</td>\n",
       "      <td>3.2</td>\n",
       "      <td>1.3</td>\n",
       "      <td>0.2</td>\n",
       "      <td>Iris-setosa</td>\n",
       "    </tr>\n",
       "  </tbody>\n",
       "</table>\n",
       "</div>"
      ],
      "text/plain": [
       "   sepal_length  sepal_width  petal_length  petal_width         type\n",
       "0           4.9          3.0           1.4          0.2  Iris-setosa\n",
       "1           4.7          3.2           1.3          0.2  Iris-setosa"
      ]
     },
     "execution_count": 12,
     "metadata": {},
     "output_type": "execute_result"
    }
   ],
   "source": [
    "#read data iris data.csv\n",
    "col_names = ['sepal_length', 'sepal_width', 'petal_length', 'petal_width', 'type']\n",
    "data = pd.read_csv('iris.data.csv',skiprows=1,header=None, names=col_names)\n",
    "data.head(2)"
   ]
  },
  {
   "cell_type": "code",
   "execution_count": 13,
   "id": "b8c979aa",
   "metadata": {},
   "outputs": [
    {
     "data": {
      "text/html": [
       "<div>\n",
       "<style scoped>\n",
       "    .dataframe tbody tr th:only-of-type {\n",
       "        vertical-align: middle;\n",
       "    }\n",
       "\n",
       "    .dataframe tbody tr th {\n",
       "        vertical-align: top;\n",
       "    }\n",
       "\n",
       "    .dataframe thead th {\n",
       "        text-align: right;\n",
       "    }\n",
       "</style>\n",
       "<table border=\"1\" class=\"dataframe\">\n",
       "  <thead>\n",
       "    <tr style=\"text-align: right;\">\n",
       "      <th></th>\n",
       "      <th>sepal_length</th>\n",
       "      <th>sepal_width</th>\n",
       "      <th>petal_length</th>\n",
       "      <th>petal_width</th>\n",
       "      <th>type</th>\n",
       "    </tr>\n",
       "  </thead>\n",
       "  <tbody>\n",
       "    <tr>\n",
       "      <th>0</th>\n",
       "      <td>4.9</td>\n",
       "      <td>3.0</td>\n",
       "      <td>1.4</td>\n",
       "      <td>0.2</td>\n",
       "      <td>0</td>\n",
       "    </tr>\n",
       "    <tr>\n",
       "      <th>1</th>\n",
       "      <td>4.7</td>\n",
       "      <td>3.2</td>\n",
       "      <td>1.3</td>\n",
       "      <td>0.2</td>\n",
       "      <td>0</td>\n",
       "    </tr>\n",
       "  </tbody>\n",
       "</table>\n",
       "</div>"
      ],
      "text/plain": [
       "   sepal_length  sepal_width  petal_length  petal_width type\n",
       "0           4.9          3.0           1.4          0.2    0\n",
       "1           4.7          3.2           1.3          0.2    0"
      ]
     },
     "execution_count": 13,
     "metadata": {},
     "output_type": "execute_result"
    }
   ],
   "source": [
    "##change name of type columns\n",
    "data.iloc[:,4] = data.iloc[:,4].apply(lambda x:0 if x =='Iris-setosa' else(2 if x == 'Iris-virginica' else 1))\n",
    "data.head(2)"
   ]
  },
  {
   "cell_type": "markdown",
   "id": "108bc7d4",
   "metadata": {},
   "source": [
    "### Build classification decision tree "
   ]
  },
  {
   "cell_type": "markdown",
   "id": "1fd3d923",
   "metadata": {},
   "source": [
    "### Node class "
   ]
  },
  {
   "cell_type": "code",
   "execution_count": 14,
   "id": "507c8965",
   "metadata": {},
   "outputs": [],
   "source": [
    "#Node\n",
    "'''\n",
    "We have two types of Node --> internal (with condition to figure out leaf or continue internal node)\n",
    "Leaf node: only have value --> figure out class of this node (0,1,2 in this case (iris dataset))\n",
    "Internal node --> attribute_name (actually it should be feature_index) 0,1,2,3 stand for sepal, petal length,width\n",
    "thresold of this attribute ex 3.0, left( left tree), right (right tree), info_gain (infomation_gain of this --> serve print)\n",
    "'''\n",
    "class Node():\n",
    "    def __init__(self,attribute_name=None,thresold=None,left=None,right=None,info_gain=None,value=None):\n",
    "        #decision node (internal node)\n",
    "        self.attribute_name = attribute_name\n",
    "        self.thresold = thresold\n",
    "        self.left = left\n",
    "        self.right = right\n",
    "        self.info_gain = info_gain\n",
    "        \n",
    "        #for leaf node\n",
    "        self.value = value"
   ]
  },
  {
   "cell_type": "markdown",
   "id": "ee617e7d-5eb5-43cd-9f96-739aca6a7e8f",
   "metadata": {},
   "source": [
    "### Tree class "
   ]
  },
  {
   "cell_type": "code",
   "execution_count": 15,
   "id": "edc73ddb",
   "metadata": {},
   "outputs": [],
   "source": [
    "class DecisionTree_Classify():\n",
    "    def __init__(self,element_min_split=2,max_dept=2):\n",
    "        #stop conditions\n",
    "        self.element_min_split = element_min_split\n",
    "        self.max_dept = max_dept   \n",
    "        \n",
    "        #Root node\n",
    "        root = None\n",
    "        \n",
    "    '''\n",
    "    Calculale entropy of this data\n",
    "    input: data (array with only labels element EX: [0,0,1,1,0,0,2,1,0,1,1])\n",
    "    output: entropy of this data array\n",
    "    Be careful!!: output may be have more than 2, like above, have 0,1, and 2...\n",
    "    '''\n",
    "    def entropy(self,data):\n",
    "        en = 0\n",
    "        y_labels = np.unique([data])\n",
    "        \n",
    "        for y_cl in y_labels:\n",
    "            p_cls = len(data[data==y_cl])/len(data)\n",
    "            en+= -p_cls*np.log2(p_cls)\n",
    "        return en\n",
    "    \n",
    "    '''\n",
    "    Calculale gini index of this data\n",
    "    input: data (array with only labels element EX: [0,0,1,1,0,0,2,1,0,1,1])\n",
    "    output: gini index of this data array\n",
    "    Why? calculate p_cls**2 may be more efficent than np.log2(p_cls)\n",
    "    '''\n",
    "    def gini_index(self,data):\n",
    "        gini = 0\n",
    "        y_labels = np.unique([data])\n",
    "        \n",
    "        for y_cl in y_labels:\n",
    "            p_cls = len(data[data==y_cl])/len(data)\n",
    "            gini += p_cls**2\n",
    "        \n",
    "        return 1-gini\n",
    "    \n",
    "    '''\n",
    "    Calculate information gain of this tree\n",
    "    input: parent, left_tree, right_tree, type(default is gini for better calculation)\n",
    "    here data is a dataframe --> slice it into 1 dimension array with only class labels\n",
    "    output: information gain of that\n",
    "    '''\n",
    "    def information_gain(self,parent,left,right,type='gini'):\n",
    "        y_parent = parent.iloc[:,4]\n",
    "        y_left = left.iloc[:,4]\n",
    "        y_right = right.iloc[:,4]\n",
    "        \n",
    "        weight_l = len(left)/ len(parent)\n",
    "        weight_r = len(right) / len(parent)\n",
    "        \n",
    "#         print(weight_l, weight_r,len(left),len(right))\n",
    "        \n",
    "        if (type=='gini'):\n",
    "            return self.gini_index(y_parent)-(weight_l*self.gini_index(y_left) + weight_r*self.gini_index(y_right))\n",
    "        else:\n",
    "            return self.entropy(y_parent)-(weight_l*self.entropy(y_left) + weight_r*self.entropy(y_right))\n",
    "    \n",
    "    '''\n",
    "    Get best spilt in this data (dataframe), base on information gain!!\n",
    "    input: data to split, num_elements, num_attributes for better loop\n",
    "    output: return dict include attribute_name,thresold,left,right,info_gain (base on max info_gain) of this data (tree)\n",
    "    Explain: Try to find attribute_name with thresold for get max info_gain (loop all elements in this data)\n",
    "    '''\n",
    "    def get_best_split(self,data,num_elements,num_attributes):\n",
    "        info_gain = -float(\"inf\")\n",
    "        info_temp = 0\n",
    "        \n",
    "        best_split = {}\n",
    "        #Loop all elements\n",
    "        #Loop elements\n",
    "        for i in range(num_elements):\n",
    "            #Loop attributes\n",
    "            for j in range(num_attributes):\n",
    "                left_data = data[data.iloc[:,j] <= data.iloc[i,j]]\n",
    "                right_data = data[data.iloc[:,j] > data.iloc[i,j]]\n",
    "                \n",
    "                if (len(left_data)>0 and len(right_data)>0):\n",
    "                    info_temp = self.information_gain(data,left_data,right_data,'gini')\n",
    "                    if (info_temp>info_gain):\n",
    "                        best_split['attribute_name'] = j\n",
    "                        best_split['thresold'] = data.iloc[i,j]\n",
    "                        best_split['left'] = left_data\n",
    "                        best_split['right'] = right_data\n",
    "                        best_split['info_gain'] = info_temp\n",
    "                        info_gain = info_temp\n",
    "                        \n",
    "                    \n",
    "        return best_split\n",
    "    \n",
    "    '''\n",
    "    Build this decision tree\n",
    "    input: data (dataframe, cur_dept --> need to satisfy stop condition)\n",
    "    output: decision tree\n",
    "    Explain: get best split to data and we have left, right tree, then again build with left, right tree\n",
    "    until stop condition have been satisfied\n",
    "    Attention: if stop condition have been satisfied, this is leaf --> declare node with value (left)\n",
    "    '''\n",
    "    def build_tree(self,data,cur_dept =0):\n",
    "        #Take discrete datas X,y\n",
    "        X = data.iloc[:,0:4]\n",
    "        y = data.iloc[:,4]\n",
    "        \n",
    "        #take num_elements and num_attributes\n",
    "        num_elements = X.shape[0]\n",
    "        num_attributes = X.shape[1]\n",
    "        \n",
    "        #Running when not satifies stop conditions\n",
    "        #If satifies stop condition --> this is left --> output node\n",
    "        if num_elements>self.element_min_split and cur_dept<self.max_dept:\n",
    "            best_split = self.get_best_split(data,num_elements,num_attributes)\n",
    "            left = best_split['left']\n",
    "            right = best_split['right']\n",
    "            if (len(left)>0) and (len(right)>0):\n",
    "                left_sub_tree = self.build_tree(left,cur_dept+1)\n",
    "                right_sub_tree = self.build_tree(right,cur_dept+1);\n",
    "                \n",
    "                return Node(best_split['attribute_name'],best_split['thresold'],left_sub_tree\n",
    "                           ,right_sub_tree,best_split['info_gain'])\n",
    "            \n",
    "        #left nodes\n",
    "        return Node(value = self.value_left_node(y))\n",
    "    \n",
    "    '''\n",
    "    when stop conditions have been satisfied, we had array with multi class labels,\n",
    "    choose most apperance in this to left value\n",
    "    input: Y (array with class labels)\n",
    "    output: class with most apperance\n",
    "    '''\n",
    "    def value_left_node(self,Y):\n",
    "        Y = list(Y)\n",
    "        return max(Y, key=Y.count)\n",
    "    \n",
    "    def fit(self,X,y):\n",
    "        '''train the tree'''\n",
    "        \n",
    "        dataset = np.concatenate((X, y), axis=1)\n",
    "        dataset = pd.DataFrame(dataset, columns=data.columns)\n",
    "#         print(dataset)\n",
    "        self.root = self.build_tree(dataset)\n",
    "\n",
    "    def predict(self, X):\n",
    "        ''' function to predict new dataset '''\n",
    "        \n",
    "        preditions = [self.make_prediction(x, self.root) for x in X]\n",
    "        return preditions\n",
    "    \n",
    "    def make_prediction(self, x, tree):\n",
    "        ''' function to predict a single data point '''\n",
    "        \n",
    "        if tree.value!=None: return tree.value\n",
    "        feature_val = x[tree.attribute_name]\n",
    "        if feature_val<=tree.thresold:\n",
    "            return self.make_prediction(x, tree.left)\n",
    "        else:\n",
    "            return self.make_prediction(x, tree.right)\n",
    "    \n",
    "    def print_tree(self,tree=None):\n",
    "        if not tree:\n",
    "            tree = self.root\n",
    "        if tree.value is not None:\n",
    "            print(tree.value)\n",
    "        else:\n",
    "            print('Condition: ', data.columns[tree.attribute_name] , '<= ', tree.thresold,'? IN FOR GAIN: ',tree.info_gain)\n",
    "            print('======LEFT SIDE=========')\n",
    "            self.print_tree(tree.left)\n",
    "            \n",
    "            print('======RIGHT SIDE=========')\n",
    "            self.print_tree(tree.right)"
   ]
  },
  {
   "cell_type": "code",
   "execution_count": 16,
   "id": "c852be98",
   "metadata": {},
   "outputs": [
    {
     "data": {
      "text/plain": [
       "Index(['sepal_length', 'sepal_width', 'petal_length', 'petal_width', 'type'], dtype='object')"
      ]
     },
     "execution_count": 16,
     "metadata": {},
     "output_type": "execute_result"
    }
   ],
   "source": [
    "data.columns"
   ]
  },
  {
   "cell_type": "code",
   "execution_count": 17,
   "id": "62cd0a58",
   "metadata": {},
   "outputs": [
    {
     "data": {
      "text/plain": [
       "((119, 4), (119, 1))"
      ]
     },
     "execution_count": 17,
     "metadata": {},
     "output_type": "execute_result"
    }
   ],
   "source": [
    "X = data.iloc[:, :-1].values\n",
    "Y = data.iloc[:, -1].values.reshape(-1,1)\n",
    "from sklearn.model_selection import train_test_split\n",
    "X_train, X_test, y_train, y_test = train_test_split(X, Y, test_size=.2, random_state=41)\n",
    "X_train.shape,y_train.shape"
   ]
  },
  {
   "cell_type": "code",
   "execution_count": 18,
   "id": "332a8c51",
   "metadata": {},
   "outputs": [
    {
     "name": "stdout",
     "output_type": "stream",
     "text": [
      "Condition:  petal_length <=  1.7 ? IN FOR GAIN:  0.33904421497105636\n",
      "======LEFT SIDE=========\n",
      "Condition:  sepal_length <=  5.7 ? IN FOR GAIN:  0.0\n",
      "======LEFT SIDE=========\n",
      "Condition:  petal_length <=  1.5 ? IN FOR GAIN:  0.0\n",
      "======LEFT SIDE=========\n",
      "0\n",
      "======RIGHT SIDE=========\n",
      "0\n",
      "======RIGHT SIDE=========\n",
      "0\n",
      "======RIGHT SIDE=========\n",
      "Condition:  petal_width <=  1.5 ? IN FOR GAIN:  0.40269559500328744\n",
      "======LEFT SIDE=========\n",
      "Condition:  petal_length <=  4.9 ? IN FOR GAIN:  0.04996712689020377\n",
      "======LEFT SIDE=========\n",
      "1\n",
      "======RIGHT SIDE=========\n",
      "2\n",
      "======RIGHT SIDE=========\n",
      "Condition:  petal_length <=  4.8 ? IN FOR GAIN:  0.040912933220625364\n",
      "======LEFT SIDE=========\n",
      "2\n",
      "======RIGHT SIDE=========\n",
      "2\n"
     ]
    }
   ],
   "source": [
    "tree = DecisionTree_Classify(element_min_split=3,max_dept=3)\n",
    "tree.fit(X_train,y_train)\n",
    "tree.print_tree()"
   ]
  },
  {
   "cell_type": "code",
   "execution_count": 29,
   "id": "487eeb78",
   "metadata": {},
   "outputs": [
    {
     "ename": "ValueError",
     "evalue": "Classification metrics can't handle a mix of unknown and multiclass targets",
     "output_type": "error",
     "traceback": [
      "\u001b[1;31m---------------------------------------------------------------------------\u001b[0m",
      "\u001b[1;31mValueError\u001b[0m                                Traceback (most recent call last)",
      "Input \u001b[1;32mIn [29]\u001b[0m, in \u001b[0;36m<cell line: 4>\u001b[1;34m()\u001b[0m\n\u001b[0;32m      1\u001b[0m Y_pred \u001b[38;5;241m=\u001b[39m tree\u001b[38;5;241m.\u001b[39mpredict(X_test) \n\u001b[0;32m      3\u001b[0m \u001b[38;5;28;01mfrom\u001b[39;00m \u001b[38;5;21;01msklearn\u001b[39;00m\u001b[38;5;21;01m.\u001b[39;00m\u001b[38;5;21;01mmetrics\u001b[39;00m \u001b[38;5;28;01mimport\u001b[39;00m accuracy_score\n\u001b[1;32m----> 4\u001b[0m \u001b[43maccuracy_score\u001b[49m\u001b[43m(\u001b[49m\u001b[43my_test\u001b[49m\u001b[43m,\u001b[49m\u001b[43m \u001b[49m\u001b[43mY_pred\u001b[49m\u001b[43m)\u001b[49m\n",
      "File \u001b[1;32m~\\AppData\\Local\\Programs\\Python\\Python310\\lib\\site-packages\\sklearn\\metrics\\_classification.py:211\u001b[0m, in \u001b[0;36maccuracy_score\u001b[1;34m(y_true, y_pred, normalize, sample_weight)\u001b[0m\n\u001b[0;32m    145\u001b[0m \u001b[38;5;124;03m\"\"\"Accuracy classification score.\u001b[39;00m\n\u001b[0;32m    146\u001b[0m \n\u001b[0;32m    147\u001b[0m \u001b[38;5;124;03mIn multilabel classification, this function computes subset accuracy:\u001b[39;00m\n\u001b[1;32m   (...)\u001b[0m\n\u001b[0;32m    207\u001b[0m \u001b[38;5;124;03m0.5\u001b[39;00m\n\u001b[0;32m    208\u001b[0m \u001b[38;5;124;03m\"\"\"\u001b[39;00m\n\u001b[0;32m    210\u001b[0m \u001b[38;5;66;03m# Compute accuracy for each possible representation\u001b[39;00m\n\u001b[1;32m--> 211\u001b[0m y_type, y_true, y_pred \u001b[38;5;241m=\u001b[39m \u001b[43m_check_targets\u001b[49m\u001b[43m(\u001b[49m\u001b[43my_true\u001b[49m\u001b[43m,\u001b[49m\u001b[43m \u001b[49m\u001b[43my_pred\u001b[49m\u001b[43m)\u001b[49m\n\u001b[0;32m    212\u001b[0m check_consistent_length(y_true, y_pred, sample_weight)\n\u001b[0;32m    213\u001b[0m \u001b[38;5;28;01mif\u001b[39;00m y_type\u001b[38;5;241m.\u001b[39mstartswith(\u001b[38;5;124m\"\u001b[39m\u001b[38;5;124mmultilabel\u001b[39m\u001b[38;5;124m\"\u001b[39m):\n",
      "File \u001b[1;32m~\\AppData\\Local\\Programs\\Python\\Python310\\lib\\site-packages\\sklearn\\metrics\\_classification.py:93\u001b[0m, in \u001b[0;36m_check_targets\u001b[1;34m(y_true, y_pred)\u001b[0m\n\u001b[0;32m     90\u001b[0m     y_type \u001b[38;5;241m=\u001b[39m {\u001b[38;5;124m\"\u001b[39m\u001b[38;5;124mmulticlass\u001b[39m\u001b[38;5;124m\"\u001b[39m}\n\u001b[0;32m     92\u001b[0m \u001b[38;5;28;01mif\u001b[39;00m \u001b[38;5;28mlen\u001b[39m(y_type) \u001b[38;5;241m>\u001b[39m \u001b[38;5;241m1\u001b[39m:\n\u001b[1;32m---> 93\u001b[0m     \u001b[38;5;28;01mraise\u001b[39;00m \u001b[38;5;167;01mValueError\u001b[39;00m(\n\u001b[0;32m     94\u001b[0m         \u001b[38;5;124m\"\u001b[39m\u001b[38;5;124mClassification metrics can\u001b[39m\u001b[38;5;124m'\u001b[39m\u001b[38;5;124mt handle a mix of \u001b[39m\u001b[38;5;132;01m{0}\u001b[39;00m\u001b[38;5;124m and \u001b[39m\u001b[38;5;132;01m{1}\u001b[39;00m\u001b[38;5;124m targets\u001b[39m\u001b[38;5;124m\"\u001b[39m\u001b[38;5;241m.\u001b[39mformat(\n\u001b[0;32m     95\u001b[0m             type_true, type_pred\n\u001b[0;32m     96\u001b[0m         )\n\u001b[0;32m     97\u001b[0m     )\n\u001b[0;32m     99\u001b[0m \u001b[38;5;66;03m# We can't have more than one value on y_type => The set is no more needed\u001b[39;00m\n\u001b[0;32m    100\u001b[0m y_type \u001b[38;5;241m=\u001b[39m y_type\u001b[38;5;241m.\u001b[39mpop()\n",
      "\u001b[1;31mValueError\u001b[0m: Classification metrics can't handle a mix of unknown and multiclass targets"
     ]
    }
   ],
   "source": [
    "Y_pred = tree.predict(X_test) \n",
    "\n",
    "from sklearn.metrics import accuracy_score\n",
    "accuracy_score(y_test, Y_pred)"
   ]
  },
  {
   "cell_type": "code",
   "execution_count": 27,
   "id": "96624e53",
   "metadata": {},
   "outputs": [
    {
     "data": {
      "text/plain": [
       "array([[0],\n",
       "       [0],\n",
       "       [0],\n",
       "       [0],\n",
       "       [1],\n",
       "       [2],\n",
       "       [2],\n",
       "       [1],\n",
       "       [2],\n",
       "       [1],\n",
       "       [2],\n",
       "       [1],\n",
       "       [2],\n",
       "       [2],\n",
       "       [2],\n",
       "       [1],\n",
       "       [2],\n",
       "       [1],\n",
       "       [0],\n",
       "       [2],\n",
       "       [2],\n",
       "       [0],\n",
       "       [0],\n",
       "       [1],\n",
       "       [1],\n",
       "       [2],\n",
       "       [2],\n",
       "       [1],\n",
       "       [0],\n",
       "       [2]], dtype=object)"
      ]
     },
     "execution_count": 27,
     "metadata": {},
     "output_type": "execute_result"
    }
   ],
   "source": [
    "y_test"
   ]
  },
  {
   "cell_type": "code",
   "execution_count": 34,
   "id": "4d36dc23",
   "metadata": {},
   "outputs": [
    {
     "ename": "AttributeError",
     "evalue": "module 'numpy' has no attribute 'flatten'",
     "output_type": "error",
     "traceback": [
      "\u001b[1;31m---------------------------------------------------------------------------\u001b[0m",
      "\u001b[1;31mAttributeError\u001b[0m                            Traceback (most recent call last)",
      "Input \u001b[1;32mIn [34]\u001b[0m, in \u001b[0;36m<cell line: 1>\u001b[1;34m()\u001b[0m\n\u001b[1;32m----> 1\u001b[0m \u001b[43mnp\u001b[49m\u001b[38;5;241;43m.\u001b[39;49m\u001b[43mflatten\u001b[49m(y_test)\n",
      "File \u001b[1;32m~\\AppData\\Local\\Programs\\Python\\Python310\\lib\\site-packages\\numpy\\__init__.py:347\u001b[0m, in \u001b[0;36m__getattr__\u001b[1;34m(attr)\u001b[0m\n\u001b[0;32m    344\u001b[0m     \u001b[38;5;124m\"\u001b[39m\u001b[38;5;124mRemoved in NumPy 1.25.0\u001b[39m\u001b[38;5;124m\"\u001b[39m\n\u001b[0;32m    345\u001b[0m     \u001b[38;5;28;01mraise\u001b[39;00m \u001b[38;5;167;01mRuntimeError\u001b[39;00m(\u001b[38;5;124m\"\u001b[39m\u001b[38;5;124mTester was removed in NumPy 1.25.\u001b[39m\u001b[38;5;124m\"\u001b[39m)\n\u001b[1;32m--> 347\u001b[0m \u001b[38;5;28;01mraise\u001b[39;00m \u001b[38;5;167;01mAttributeError\u001b[39;00m(\u001b[38;5;124m\"\u001b[39m\u001b[38;5;124mmodule \u001b[39m\u001b[38;5;132;01m{!r}\u001b[39;00m\u001b[38;5;124m has no attribute \u001b[39m\u001b[38;5;124m\"\u001b[39m\n\u001b[0;32m    348\u001b[0m                      \u001b[38;5;124m\"\u001b[39m\u001b[38;5;132;01m{!r}\u001b[39;00m\u001b[38;5;124m\"\u001b[39m\u001b[38;5;241m.\u001b[39mformat(\u001b[38;5;18m__name__\u001b[39m, attr))\n",
      "\u001b[1;31mAttributeError\u001b[0m: module 'numpy' has no attribute 'flatten'"
     ]
    }
   ],
   "source": [
    "np.flatten(y_test)"
   ]
  },
  {
   "cell_type": "code",
   "execution_count": null,
   "id": "0c14f978",
   "metadata": {},
   "outputs": [],
   "source": []
  },
  {
   "cell_type": "code",
   "execution_count": null,
   "id": "200e2c8b",
   "metadata": {},
   "outputs": [],
   "source": []
  },
  {
   "cell_type": "code",
   "execution_count": null,
   "id": "932f2c59",
   "metadata": {},
   "outputs": [],
   "source": []
  },
  {
   "cell_type": "code",
   "execution_count": null,
   "id": "c20bad63",
   "metadata": {},
   "outputs": [],
   "source": []
  }
 ],
 "metadata": {
  "kernelspec": {
   "display_name": "Python 3 (ipykernel)",
   "language": "python",
   "name": "python3"
  },
  "language_info": {
   "codemirror_mode": {
    "name": "ipython",
    "version": 3
   },
   "file_extension": ".py",
   "mimetype": "text/x-python",
   "name": "python",
   "nbconvert_exporter": "python",
   "pygments_lexer": "ipython3",
   "version": "3.10.5"
  }
 },
 "nbformat": 4,
 "nbformat_minor": 5
}
